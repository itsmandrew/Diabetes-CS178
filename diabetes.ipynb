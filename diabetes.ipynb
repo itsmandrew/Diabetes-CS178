{
 "cells": [
  {
   "cell_type": "markdown",
   "id": "0c8c4c16-3557-4b6f-8689-fa5d9d014711",
   "metadata": {},
   "source": [
    "# Final Project CS178 - Diabetes Dataset"
   ]
  },
  {
   "cell_type": "markdown",
   "id": "c2b6edf9f39f428d",
   "metadata": {},
   "source": [
    "Data is imported"
   ]
  },
  {
   "cell_type": "code",
   "execution_count": 9,
   "id": "c824313993a20f95",
   "metadata": {
    "ExecuteTime": {
     "end_time": "2024-06-03T02:33:13.308688Z",
     "start_time": "2024-06-03T02:33:09.117084Z"
    }
   },
   "outputs": [
    {
     "name": "stderr",
     "output_type": "stream",
     "text": [
      "/Users/andrewchang/.pyenv/versions/3.10.14/lib/python3.10/site-packages/ucimlrepo/fetch.py:97: DtypeWarning: Columns (10) have mixed types. Specify dtype option on import or set low_memory=False.\n",
      "  df = pd.read_csv(data_url)\n"
     ]
    }
   ],
   "source": [
    "from ucimlrepo import fetch_ucirepo, list_available_datasets\n",
    "# fetch dataset\n",
    "diabetes_130_us_hospitals_for_years_1999_2008 = fetch_ucirepo(id=296)\n",
    "\n",
    "# data (as pandas dataframes)\n",
    "X = diabetes_130_us_hospitals_for_years_1999_2008.data.features\n",
    "y = diabetes_130_us_hospitals_for_years_1999_2008.data.targets"
   ]
  },
  {
   "cell_type": "markdown",
   "id": "b2fd266f1d5ac1c5",
   "metadata": {},
   "source": [
    "Data is now cleaned up. Weight will be considered irrelevant due to a lack of information. Payer code also does not have enough information and is not relevant to the health of the patient. \n",
    "\n",
    "Columns such as race, medical_specialty, max_flu_serum, and A1Cresult have NaN values which were replaced with either 'unknown' or -1"
   ]
  },
  {
   "cell_type": "code",
   "execution_count": 10,
   "id": "08580c53-67d6-4297-9569-f276f28c04c4",
   "metadata": {},
   "outputs": [],
   "source": [
    "\n",
    "X = X.drop(columns=['weight', 'payer_code']) # Weight has too little information to be relevant. Payer code is also not relevant\n",
    "X['race'] = X['race'].fillna('Unknown') # NaN to unknown\n",
    "X['medical_specialty'] = X['medical_specialty'].fillna('Unknown') # NaN to unknown\n",
    "X['max_glu_serum'] = X['max_glu_serum'].fillna('-1') # Changing None, to -1\n",
    "X['A1Cresult'] = X['A1Cresult'].fillna('-1') # Changing None, to -1\n",
    "\n"
   ]
  },
  {
   "cell_type": "code",
   "execution_count": 14,
   "id": "ae4b3eb4-885e-4b85-8928-d47bca9c2779",
   "metadata": {},
   "outputs": [
    {
     "name": "stdout",
     "output_type": "stream",
     "text": [
      "Index(['race', 'gender', 'age', 'admission_type_id',\n",
      "       'discharge_disposition_id', 'admission_source_id', 'time_in_hospital',\n",
      "       'medical_specialty', 'num_lab_procedures', 'num_procedures',\n",
      "       'num_medications', 'number_outpatient', 'number_emergency',\n",
      "       'number_inpatient', 'diag_1', 'diag_2', 'diag_3', 'number_diagnoses',\n",
      "       'max_glu_serum', 'A1Cresult', 'metformin', 'repaglinide', 'nateglinide',\n",
      "       'chlorpropamide', 'glimepiride', 'acetohexamide', 'glipizide',\n",
      "       'glyburide', 'tolbutamide', 'pioglitazone', 'rosiglitazone', 'acarbose',\n",
      "       'miglitol', 'troglitazone', 'tolazamide', 'examide', 'citoglipton',\n",
      "       'insulin', 'glyburide-metformin', 'glipizide-metformin',\n",
      "       'glimepiride-pioglitazone', 'metformin-rosiglitazone',\n",
      "       'metformin-pioglitazone', 'change', 'diabetesMed'],\n",
      "      dtype='object')\n",
      "       readmitted\n",
      "0              NO\n",
      "1             >30\n",
      "2              NO\n",
      "3              NO\n",
      "4              NO\n",
      "...           ...\n",
      "101761        >30\n",
      "101762         NO\n",
      "101763         NO\n",
      "101764         NO\n",
      "101765         NO\n",
      "\n",
      "[101766 rows x 1 columns]\n"
     ]
    }
   ],
   "source": [
    "print(X.columns)\n",
    "print(y)"
   ]
  },
  {
   "cell_type": "code",
   "execution_count": null,
   "id": "e11d8686-e927-4d27-9024-27c0e3f2f937",
   "metadata": {},
   "outputs": [],
   "source": []
  }
 ],
 "metadata": {
  "kernelspec": {
   "display_name": "Python 3 (ipykernel)",
   "language": "python",
   "name": "python3"
  },
  "language_info": {
   "codemirror_mode": {
    "name": "ipython",
    "version": 3
   },
   "file_extension": ".py",
   "mimetype": "text/x-python",
   "name": "python",
   "nbconvert_exporter": "python",
   "pygments_lexer": "ipython3",
   "version": "3.10.14"
  }
 },
 "nbformat": 4,
 "nbformat_minor": 5
}
