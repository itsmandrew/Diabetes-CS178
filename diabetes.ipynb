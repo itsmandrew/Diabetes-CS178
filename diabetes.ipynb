{
 "cells": [
  {
   "cell_type": "markdown",
   "id": "0c8c4c16-3557-4b6f-8689-fa5d9d014711",
   "metadata": {},
   "source": [
    "# Final Project CS178 - Diabetes Dataset"
   ]
  },
  {
   "cell_type": "code",
   "execution_count": null,
   "id": "08580c53-67d6-4297-9569-f276f28c04c4",
   "metadata": {
    "vscode": {
     "languageId": "python"
    }
   },
   "outputs": [],
   "source": [
    "y = 1 + 1"
   ]
  }
 ],
 "metadata": {
  "kernelspec": {
   "display_name": "",
   "name": ""
  },
  "language_info": {
   "name": ""
  }
 },
 "nbformat": 4,
 "nbformat_minor": 5
}
