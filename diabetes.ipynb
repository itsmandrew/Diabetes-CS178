{
 "cells": [
  {
   "cell_type": "markdown",
   "id": "0c8c4c16-3557-4b6f-8689-fa5d9d014711",
   "metadata": {},
   "source": [
    "# Final Project CS178 - Diabetes Dataset"
   ]
  },
  {
   "cell_type": "code",
   "id": "08580c53-67d6-4297-9569-f276f28c04c4",
   "metadata": {
    "ExecuteTime": {
     "end_time": "2024-06-03T02:33:13.308688Z",
     "start_time": "2024-06-03T02:33:09.117084Z"
    }
   },
   "source": [
    "from ucimlrepo import fetch_ucirepo\n",
    "# fetch dataset\n",
    "diabetes_130_us_hospitals_for_years_1999_2008 = fetch_ucirepo(id=296)\n",
    "\n",
    "# data (as pandas dataframes)\n",
    "X = diabetes_130_us_hospitals_for_years_1999_2008.data.features\n",
    "y = diabetes_130_us_hospitals_for_years_1999_2008.data.targets\n",
    "\n",
    "\n",
    "X = X.drop(columns=['weight', 'payer_code']) # Weight has too little information to be relevant. Payer code is also not relevant\n",
    "X['race'] = X['race'].fillna('Unknown') # NaN to unknown\n",
    "X['medical_specialty'] = X['medical_specialty'].fillna('Unknown') # NaN to unknown\n",
    "X['max_glu_serum'] = X['max_glu_serum'].fillna('-1') # Changing None, to -1\n",
    "X['A1Cresult'] = X['A1Cresult'].fillna('-1') # Changing None, to -1\n",
    "\n"
   ],
   "outputs": [
    {
     "name": "stdout",
     "output_type": "stream",
     "text": [
      "       readmitted\n",
      "0              NO\n",
      "1             >30\n",
      "2              NO\n",
      "3              NO\n",
      "4              NO\n",
      "...           ...\n",
      "101761        >30\n",
      "101762         NO\n",
      "101763         NO\n",
      "101764         NO\n",
      "101765         NO\n",
      "\n",
      "[101766 rows x 1 columns]\n"
     ]
    },
    {
     "name": "stderr",
     "output_type": "stream",
     "text": [
      "C:\\Users\\justi\\PycharmProjects\\CS-171-HW1\\.venv\\Lib\\site-packages\\ucimlrepo\\fetch.py:97: DtypeWarning: Columns (10) have mixed types. Specify dtype option on import or set low_memory=False.\n",
      "  df = pd.read_csv(data_url)\n"
     ]
    }
   ],
   "execution_count": 14
  }
 ],
 "metadata": {
  "kernelspec": {
   "display_name": "Python 3 (ipykernel)",
   "name": "python3",
   "language": "python"
  },
  "language_info": {
   "name": ""
  }
 },
 "nbformat": 4,
 "nbformat_minor": 5
}
