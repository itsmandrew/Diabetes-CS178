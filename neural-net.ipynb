{
 "cells": [
  {
   "cell_type": "markdown",
   "id": "c295bf32-159d-4a9a-90f1-aca0c13fc9c5",
   "metadata": {},
   "source": [
    "# Feedforward Neural Network - Andrew Chang"
   ]
  },
  {
   "cell_type": "code",
   "execution_count": 58,
   "id": "925ddb67-56df-4b1f-9bbd-d1309f521313",
   "metadata": {},
   "outputs": [],
   "source": [
    "from ucimlrepo import fetch_ucirepo\n",
    "import numpy as np\n",
    "import pandas as pd\n",
    "from sklearn.preprocessing import LabelEncoder\n",
    "from sklearn.preprocessing import OrdinalEncoder\n",
    "from sklearn.model_selection import train_test_split\n",
    "from sklearn.metrics import accuracy_score, confusion_matrix\n",
    "from sklearn.neural_network import MLPClassifier\n",
    "from sklearn.preprocessing import StandardScaler\n",
    "from sklearn.metrics import accuracy_score, confusion_matrix\n",
    "\n",
    "# Setting random seed.\n",
    "seed = 123\n",
    "np.random.seed(seed)"
   ]
  },
  {
   "cell_type": "code",
   "execution_count": 59,
   "id": "00a6c7cc-0ac6-446f-884b-486fc7926da2",
   "metadata": {},
   "outputs": [
    {
     "name": "stderr",
     "output_type": "stream",
     "text": [
      "/Users/andrewchang/.pyenv/versions/3.10.14/lib/python3.10/site-packages/ucimlrepo/fetch.py:97: DtypeWarning: Columns (10) have mixed types. Specify dtype option on import or set low_memory=False.\n",
      "  df = pd.read_csv(data_url)\n"
     ]
    }
   ],
   "source": [
    "# Fetch dataset\n",
    "diabetes_130_us_hospitals_for_years_1999_2008 = fetch_ucirepo(id=296)\n",
    "\n",
    "# Data (as pandas dataframes)\n",
    "X = diabetes_130_us_hospitals_for_years_1999_2008.data.features\n",
    "y = diabetes_130_us_hospitals_for_years_1999_2008.data.targets"
   ]
  },
  {
   "cell_type": "code",
   "execution_count": 60,
   "id": "3fee487f-793f-4017-be90-8f928e8392bd",
   "metadata": {},
   "outputs": [],
   "source": [
    "# Cleaning the data\n",
    "\n",
    "# Dropping columns with 30% missing values\n",
    "X = X.drop(columns=['weight', 'payer_code', 'medical_specialty'])\n"
   ]
  },
  {
   "cell_type": "code",
   "execution_count": 61,
   "id": "5b501d62-2000-4566-bb1d-10f544f8f209",
   "metadata": {},
   "outputs": [],
   "source": [
    "# Using Label and Ordinal Encoding to make non-numerical data numerical\n",
    "le = LabelEncoder()\n",
    "columns_to_encode = ['race', 'gender', 'diag_1', 'diag_2', 'diag_3',\n",
    "            'max_glu_serum', 'A1Cresult', 'metformin', 'repaglinide', 'nateglinide',\n",
    "            'chlorpropamide', 'glimepiride', 'acetohexamide', 'glipizide', 'glyburide',\n",
    "            'tolbutamide', 'pioglitazone', 'rosiglitazone', 'acarbose', 'miglitol',\n",
    "            'troglitazone', 'tolazamide', 'examide', 'citoglipton', 'insulin',\n",
    "            'glyburide-metformin', 'glipizide-metformin', 'glimepiride-pioglitazone',\n",
    "            'metformin-rosiglitazone', 'metformin-pioglitazone', 'change', 'diabetesMed']\n",
    "\n",
    "for col in columns_to_encode:\n",
    "    X[col] = le.fit_transform(X[col])\n",
    "\n",
    "# Create binary values for the 'readmitted' column using .loc\n",
    "y.loc[:, 'readmitted'] = y['readmitted'].apply(lambda x: 0 if x == \"NO\" else 1)\n",
    "\n",
    "oe = OrdinalEncoder(categories=[['[0-10)', '[10-20)', '[20-30)', '[30-40)', '[40-50)', '[50-60)', '[60-70)', '[70-80)', '[80-90)', '[90-100)']])\n",
    "X['age'] = oe.fit_transform(X[['age']])\n",
    "\n",
    "# Extract y and ensure it's a one-dimensional array\n",
    "y = y['readmitted'].values.ravel()"
   ]
  },
  {
   "cell_type": "code",
   "execution_count": 66,
   "id": "a3a7f41c-df66-43c1-8d5b-46da46b029e4",
   "metadata": {},
   "outputs": [],
   "source": [
    "# Creating a 75% training and 25% testing split\n",
    "X_train, X_test, y_train, y_test = train_test_split(X, y, test_size=0.25, random_state=seed)\n",
    "y_train = y_train.astype(int)\n",
    "y_test = y_test.astype(int)"
   ]
  },
  {
   "cell_type": "code",
   "execution_count": 68,
   "id": "4a649083-2bb3-4018-8992-28fc93aae427",
   "metadata": {},
   "outputs": [
    {
     "name": "stdout",
     "output_type": "stream",
     "text": [
      "Accuracy: 0.6262479364829809\n",
      "[[10093  3550]\n",
      " [ 5959  5840]]\n"
     ]
    }
   ],
   "source": [
    "# Neural Network Classifier\n",
    "scaler = StandardScaler()\n",
    "X_train = scaler.fit_transform(X_train)\n",
    "X_test = scaler.transform(X_test)\n",
    "\n",
    "model = MLPClassifier(\n",
    "    hidden_layer_sizes=(16, 8),\n",
    "    activation='relu',\n",
    "    solver='adam',\n",
    "    random_state=seed\n",
    ").fit(X_train, y_train)\n",
    "\n",
    "y_pred = model.predict(X_test)\n",
    "accuracy = accuracy_score(y_test, y_pred)\n",
    "confusion = confusion_matrix(y_test, y_pred)\n",
    "\n",
    "print(f'Accuracy: {accuracy}')\n",
    "print(confusion)"
   ]
  },
  {
   "cell_type": "code",
   "execution_count": null,
   "id": "0d91a5f0-b7b0-4cfb-9c18-fedab94270c9",
   "metadata": {},
   "outputs": [],
   "source": []
  }
 ],
 "metadata": {
  "kernelspec": {
   "display_name": "Python 3 (ipykernel)",
   "language": "python",
   "name": "python3"
  },
  "language_info": {
   "codemirror_mode": {
    "name": "ipython",
    "version": 3
   },
   "file_extension": ".py",
   "mimetype": "text/x-python",
   "name": "python",
   "nbconvert_exporter": "python",
   "pygments_lexer": "ipython3",
   "version": "3.10.14"
  }
 },
 "nbformat": 4,
 "nbformat_minor": 5
}
