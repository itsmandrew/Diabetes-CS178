{
 "cells": [
  {
   "metadata": {
    "ExecuteTime": {
     "end_time": "2024-06-07T01:45:54.883870Z",
     "start_time": "2024-06-07T01:45:54.150900Z"
    }
   },
   "cell_type": "code",
   "source": [
    "from ucimlrepo import fetch_ucirepo\n",
    "import numpy as np\n",
    "from sklearn.preprocessing import LabelEncoder\n",
    "from sklearn.preprocessing import OrdinalEncoder\n",
    "from sklearn.model_selection import train_test_split\n",
    "from sklearn.neighbors import KNeighborsClassifier\n",
    "from sklearn.metrics import accuracy_score\n",
    "from matplotlib import pyplot as plt\n",
    "from sklearn.metrics import confusion_matrix\n",
    "from sklearn.tree import plot_tree\n",
    "from sklearn.metrics import classification_report\n",
    "from sklearn.ensemble import RandomForestClassifier\n",
    "\n",
    "# Setting random seed.\n",
    "seed = 123\n",
    "np.random.seed(seed)"
   ],
   "id": "50c69a9acd8e845c",
   "outputs": [],
   "execution_count": 1
  },
  {
   "metadata": {
    "ExecuteTime": {
     "end_time": "2024-06-07T01:45:58.550030Z",
     "start_time": "2024-06-07T01:45:54.884374Z"
    }
   },
   "cell_type": "code",
   "source": [
    "# Fetch dataset\n",
    "diabetes_130_us_hospitals_for_years_1999_2008 = fetch_ucirepo(id=296)\n",
    "\n",
    "# Data (as pandas dataframes)\n",
    "X = diabetes_130_us_hospitals_for_years_1999_2008.data.features\n",
    "y = diabetes_130_us_hospitals_for_years_1999_2008.data.targets"
   ],
   "id": "6e8c16957ab70a39",
   "outputs": [
    {
     "name": "stderr",
     "output_type": "stream",
     "text": [
      "C:\\Users\\justi\\PycharmProjects\\CS-171-HW1\\.venv\\Lib\\site-packages\\ucimlrepo\\fetch.py:97: DtypeWarning: Columns (10) have mixed types. Specify dtype option on import or set low_memory=False.\n",
      "  df = pd.read_csv(data_url)\n"
     ]
    }
   ],
   "execution_count": 2
  },
  {
   "metadata": {
    "ExecuteTime": {
     "end_time": "2024-06-07T01:45:58.573101Z",
     "start_time": "2024-06-07T01:45:58.551030Z"
    }
   },
   "cell_type": "code",
   "source": [
    "y = diabetes_130_us_hospitals_for_years_1999_2008.data.targets\n",
    "# Cleaning the data\n",
    "\n",
    "# Dropping columns with 30% missing values\n",
    "X = X.drop(columns=['weight', 'payer_code', 'medical_specialty'])"
   ],
   "id": "11a5f1ee63e091d7",
   "outputs": [],
   "execution_count": 3
  },
  {
   "metadata": {
    "ExecuteTime": {
     "end_time": "2024-06-07T01:45:58.820618Z",
     "start_time": "2024-06-07T01:45:58.573602Z"
    }
   },
   "cell_type": "code",
   "source": [
    "# Using Label and Ordinal Encoding to make non-numerical data numerical\n",
    "le = LabelEncoder()\n",
    "columns_to_encode = ['race', 'gender', 'diag_1', 'diag_2', 'diag_3',\n",
    "            'max_glu_serum', 'A1Cresult', 'metformin', 'repaglinide', 'nateglinide',\n",
    "            'chlorpropamide', 'glimepiride', 'acetohexamide', 'glipizide', 'glyburide',\n",
    "            'tolbutamide', 'pioglitazone', 'rosiglitazone', 'acarbose', 'miglitol',\n",
    "            'troglitazone', 'tolazamide', 'examide', 'citoglipton', 'insulin',\n",
    "            'glyburide-metformin', 'glipizide-metformin', 'glimepiride-pioglitazone',\n",
    "            'metformin-rosiglitazone', 'metformin-pioglitazone', 'change', 'diabetesMed']\n",
    "\n",
    "for col in columns_to_encode:\n",
    "    X[col] = le.fit_transform(X[col])\n",
    "\n",
    "# Create binary values for the 'readmitted' column using .loc\n",
    "y.loc[:, 'readmitted'] = y['readmitted'].apply(lambda x: 0 if x == \"NO\" else 1)\n",
    "\n",
    "oe = OrdinalEncoder(categories=[['[0-10)', '[10-20)', '[20-30)', '[30-40)', '[40-50)', '[50-60)', '[60-70)', '[70-80)', '[80-90)', '[90-100)']])\n",
    "X['age'] = oe.fit_transform(X[['age']])\n",
    "\n",
    "# Extract y and ensure it's a one-dimensional array\n",
    "y = y['readmitted'].values.ravel()"
   ],
   "id": "cdbd5e34589de322",
   "outputs": [],
   "execution_count": 4
  },
  {
   "metadata": {
    "ExecuteTime": {
     "end_time": "2024-06-07T01:45:59.942322Z",
     "start_time": "2024-06-07T01:45:59.898687Z"
    }
   },
   "cell_type": "code",
   "source": [
    "# Creating a 55% training, 20% testing split, 25% validation\n",
    "X_train, X_test, y_train, y_test = train_test_split(X, y, test_size=0.2, random_state=seed)\n",
    "X_train, X_val, y_train, y_val = train_test_split(X_train, y_train, test_size=0.25, random_state=seed)\n",
    "\n",
    "y_train = y_train.astype(int)\n",
    "y_val = y_val.astype(int)\n",
    "y_test = y_test.astype(int)"
   ],
   "id": "55f1a8aee1f9e27",
   "outputs": [],
   "execution_count": 5
  },
  {
   "cell_type": "code",
   "id": "initial_id",
   "metadata": {
    "collapsed": true,
    "ExecuteTime": {
     "end_time": "2024-06-07T01:50:41.107460Z",
     "start_time": "2024-06-07T01:50:34.270721Z"
    }
   },
   "source": [
    "clf = RandomForestClassifier(random_state=seed)\n",
    "clf.fit(X_train, y_train)\n",
    "\n",
    "y_pred = clf.predict(X_val)\n",
    "\n",
    "print('Results for validation')\n",
    "accuracy = accuracy_score(y_val, y_pred)\n",
    "print(f\"Accuracy: {accuracy:.2f}\")\n",
    "print(\"Confusion Matrix:\")\n",
    "print(confusion_matrix(y_val, y_pred))\n",
    "print(\"Classification Report:\")\n",
    "print(classification_report(y_val, y_pred))\n",
    "\n",
    "\n",
    "#best_accuracy = 0\n",
    "#best_tree_index = 0\n",
    "#for i, tree in enumerate(clf.estimators_):\n",
    "#    tree_accuracy = accuracy_score(y_train, tree.predict(X_train))\n",
    "#    if tree_accuracy > best_accuracy:\n",
    "#        best_accuracy = tree_accuracy\n",
    "#        best_tree_index = i\n",
    "\n",
    "#best_tree = clf.estimators_[best_tree_index]\n",
    "\n",
    "# Visualizing the best tree\n",
    "#plt.figure(figsize=(20,10))\n",
    "#plot_tree(best_tree, filled=True, feature_names=X.columns, class_names=['Not Readmitted', 'Readmitted'], rounded=True, max_depth = 2)\n",
    "#plt.title(f\"Best Tree (Tree Index: {best_tree_index}, Accuracy: {best_accuracy:.2f})\")\n",
    "#plt.show()\n",
    "\n"
   ],
   "outputs": [
    {
     "name": "stdout",
     "output_type": "stream",
     "text": [
      "Results for validation\n",
      "Accuracy: 0.64\n",
      "Confusion Matrix:\n",
      "[[8134 2889]\n",
      " [4488 4842]]\n",
      "Classification Report:\n",
      "              precision    recall  f1-score   support\n",
      "\n",
      "           0       0.64      0.74      0.69     11023\n",
      "           1       0.63      0.52      0.57      9330\n",
      "\n",
      "    accuracy                           0.64     20353\n",
      "   macro avg       0.64      0.63      0.63     20353\n",
      "weighted avg       0.64      0.64      0.63     20353\n",
      "\n"
     ]
    }
   ],
   "execution_count": 11
  },
  {
   "metadata": {
    "ExecuteTime": {
     "end_time": "2024-06-07T01:49:30.778923Z",
     "start_time": "2024-06-07T01:49:30.380190Z"
    }
   },
   "cell_type": "code",
   "source": [
    "y_pred = clf.predict(X_test)\n",
    "print('Results for testing')\n",
    "accuracy = accuracy_score(y_test, y_pred)\n",
    "print(f\"Accuracy: {accuracy:.2f}\")\n",
    "print(\"Confusion Matrix:\")\n",
    "print(confusion_matrix(y_test, y_pred))\n",
    "print(\"Classification Report:\")\n",
    "print(classification_report(y_test, y_pred))"
   ],
   "id": "d5f7aa05f32105b0",
   "outputs": [
    {
     "name": "stdout",
     "output_type": "stream",
     "text": [
      "Results for testing\n",
      "Accuracy: 0.64\n",
      "Confusion Matrix:\n",
      "[[8044 2827]\n",
      " [4585 4898]]\n",
      "Classification Report:\n",
      "              precision    recall  f1-score   support\n",
      "\n",
      "           0       0.64      0.74      0.68     10871\n",
      "           1       0.63      0.52      0.57      9483\n",
      "\n",
      "    accuracy                           0.64     20354\n",
      "   macro avg       0.64      0.63      0.63     20354\n",
      "weighted avg       0.64      0.64      0.63     20354\n",
      "\n"
     ]
    }
   ],
   "execution_count": 9
  }
 ],
 "metadata": {
  "kernelspec": {
   "display_name": "Python 3",
   "language": "python",
   "name": "python3"
  },
  "language_info": {
   "codemirror_mode": {
    "name": "ipython",
    "version": 2
   },
   "file_extension": ".py",
   "mimetype": "text/x-python",
   "name": "python",
   "nbconvert_exporter": "python",
   "pygments_lexer": "ipython2",
   "version": "2.7.6"
  }
 },
 "nbformat": 4,
 "nbformat_minor": 5
}
